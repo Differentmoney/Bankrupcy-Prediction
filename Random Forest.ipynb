{
 "cells": [
  {
   "cell_type": "code",
   "execution_count": 1,
   "metadata": {},
   "outputs": [],
   "source": [
    "# Data manipulation\n",
    "import pandas as pd \n",
    "import numpy as np\n",
    "# Data visualization\n",
    "import seaborn as sns\n",
    "import matplotlib.pyplot as plt\n",
    "from sklearn.feature_selection import RFE\n",
    "from sklearn.model_selection import train_test_split\n",
    "from sklearn.ensemble import RandomForestClassifier"
   ]
  },
  {
   "cell_type": "code",
   "execution_count": 2,
   "metadata": {},
   "outputs": [
    {
     "name": "stdout",
     "output_type": "stream",
     "text": [
      "(6819, 96)\n"
     ]
    }
   ],
   "source": [
    "# Read data\n",
    "df = pd.read_csv('data.csv')\n",
    "print(df.shape)"
   ]
  },
  {
   "cell_type": "code",
   "execution_count": 3,
   "metadata": {},
   "outputs": [],
   "source": [
    "X = df.iloc[:,1:].values\n",
    "y = df.iloc[:,0].values.ravel()\n",
    "\n",
    "X_train, X_test, y_train, y_test = train_test_split(X, y, random_state=42)"
   ]
  },
  {
   "cell_type": "code",
   "execution_count": 5,
   "metadata": {},
   "outputs": [
    {
     "name": "stdout",
     "output_type": "stream",
     "text": [
      "Test score: 0.969  number of features: 5\n",
      "Test score: 0.970  number of features: 10\n",
      "Test score: 0.970  number of features: 15\n",
      "Test score: 0.972  number of features: 20\n",
      "Test score: 0.971  number of features: 25\n",
      "Test score: 0.970  number of features: 30\n",
      "Test score: 0.974  number of features: 35\n",
      "Test score: 0.973  number of features: 40\n"
     ]
    }
   ],
   "source": [
    "# determining optimal number of features\n",
    "# WARNING This step takes 8 minutes!!!\n",
    "n_features = [5, 10, 15, 20, 25, 30, 35, 40]\n",
    "for i in n_features:\n",
    "    # Building the model based feature selection\n",
    "    select = RFE(RandomForestClassifier(n_estimators=100, random_state=42), n_features_to_select=i)\n",
    "\n",
    "    select.fit(X_train, y_train)\n",
    "\n",
    "    mask = select.get_support()\n",
    "\n",
    "    X_train_rfe = select.transform(X_train)\n",
    "    X_test_rfe = select.transform(X_test)\n",
    "\n",
    "    score = RandomForestClassifier().fit(X_train_rfe, y_train).score(X_test_rfe, y_test)\n",
    "    \n",
    "    print(\"Test score: {:.3f}\".format(score), \" number of features: {}\".format(i))"
   ]
  },
  {
   "cell_type": "code",
   "execution_count": 4,
   "metadata": {},
   "outputs": [
    {
     "name": "stdout",
     "output_type": "stream",
     "text": [
      "Test score: 0.969  number of features: 15\n"
     ]
    }
   ],
   "source": [
    "# Random Forest Classifcation for 15 features\n",
    "# This takes a while to run as well....\n",
    "select = RFE(RandomForestClassifier(n_estimators=100, random_state=42), n_features_to_select=15)\n",
    "\n",
    "select.fit(X_train, y_train)\n",
    "\n",
    "mask = select.get_support()\n",
    "\n",
    "X_train_rfe = select.transform(X_train)\n",
    "X_test_rfe = select.transform(X_test)\n",
    "\n",
    "score = RandomForestClassifier().fit(X_train_rfe, y_train).score(X_test_rfe, y_test)\n",
    "\n",
    "print(\"Test score: {:.3f}\".format(score), \" number of features: {}\".format(15))\n",
    "\n",
    "features = pd.DataFrame({'features':list(df.iloc[:,1:].keys()), 'select':list(mask)})\n",
    "features = list(features[features['select']==True]['features'])\n",
    "features.append('Bankrupt?')"
   ]
  },
  {
   "cell_type": "code",
   "execution_count": 7,
   "metadata": {},
   "outputs": [
    {
     "data": {
      "text/html": [
       "<div>\n",
       "<style scoped>\n",
       "    .dataframe tbody tr th:only-of-type {\n",
       "        vertical-align: middle;\n",
       "    }\n",
       "\n",
       "    .dataframe tbody tr th {\n",
       "        vertical-align: top;\n",
       "    }\n",
       "\n",
       "    .dataframe thead th {\n",
       "        text-align: right;\n",
       "    }\n",
       "</style>\n",
       "<table border=\"1\" class=\"dataframe\">\n",
       "  <thead>\n",
       "    <tr style=\"text-align: right;\">\n",
       "      <th></th>\n",
       "      <th>Non-industry income and expenditure/revenue</th>\n",
       "      <th>Interest-bearing debt interest rate</th>\n",
       "      <th>Net Value Per Share (A)</th>\n",
       "      <th>Persistent EPS in the Last Four Seasons</th>\n",
       "      <th>Net Value Growth Rate</th>\n",
       "      <th>Interest Expense Ratio</th>\n",
       "      <th>Total debt/Total net worth</th>\n",
       "      <th>Borrowing dependency</th>\n",
       "      <th>Net profit before tax/Paid-in capital</th>\n",
       "      <th>Fixed Assets Turnover Frequency</th>\n",
       "      <th>Cash/Total Assets</th>\n",
       "      <th>Net Income to Total Assets</th>\n",
       "      <th>Net Income to Stockholder's Equity</th>\n",
       "      <th>Degree of Financial Leverage (DFL)</th>\n",
       "      <th>Equity to Liability</th>\n",
       "      <th>Bankrupt?</th>\n",
       "    </tr>\n",
       "  </thead>\n",
       "  <tbody>\n",
       "    <tr>\n",
       "      <th>0</th>\n",
       "      <td>0.302646</td>\n",
       "      <td>7.250725e-04</td>\n",
       "      <td>0.147950</td>\n",
       "      <td>0.169141</td>\n",
       "      <td>0.000327</td>\n",
       "      <td>0.629951</td>\n",
       "      <td>0.021266</td>\n",
       "      <td>0.390284</td>\n",
       "      <td>0.137757</td>\n",
       "      <td>1.165007e-04</td>\n",
       "      <td>0.004094</td>\n",
       "      <td>0.716845</td>\n",
       "      <td>0.827890</td>\n",
       "      <td>0.026601</td>\n",
       "      <td>0.016469</td>\n",
       "      <td>1</td>\n",
       "    </tr>\n",
       "    <tr>\n",
       "      <th>1</th>\n",
       "      <td>0.303556</td>\n",
       "      <td>6.470647e-04</td>\n",
       "      <td>0.182251</td>\n",
       "      <td>0.208944</td>\n",
       "      <td>0.000443</td>\n",
       "      <td>0.635172</td>\n",
       "      <td>0.012502</td>\n",
       "      <td>0.376760</td>\n",
       "      <td>0.168962</td>\n",
       "      <td>7.190000e+08</td>\n",
       "      <td>0.014948</td>\n",
       "      <td>0.795297</td>\n",
       "      <td>0.839969</td>\n",
       "      <td>0.264577</td>\n",
       "      <td>0.020794</td>\n",
       "      <td>1</td>\n",
       "    </tr>\n",
       "    <tr>\n",
       "      <th>2</th>\n",
       "      <td>0.302035</td>\n",
       "      <td>7.900790e-04</td>\n",
       "      <td>0.177911</td>\n",
       "      <td>0.180581</td>\n",
       "      <td>0.000396</td>\n",
       "      <td>0.629631</td>\n",
       "      <td>0.021248</td>\n",
       "      <td>0.379093</td>\n",
       "      <td>0.148036</td>\n",
       "      <td>2.650000e+09</td>\n",
       "      <td>0.000991</td>\n",
       "      <td>0.774670</td>\n",
       "      <td>0.836774</td>\n",
       "      <td>0.026555</td>\n",
       "      <td>0.016474</td>\n",
       "      <td>1</td>\n",
       "    </tr>\n",
       "    <tr>\n",
       "      <th>3</th>\n",
       "      <td>0.303350</td>\n",
       "      <td>4.490449e-04</td>\n",
       "      <td>0.154187</td>\n",
       "      <td>0.193722</td>\n",
       "      <td>0.000382</td>\n",
       "      <td>0.630228</td>\n",
       "      <td>0.009572</td>\n",
       "      <td>0.379743</td>\n",
       "      <td>0.147561</td>\n",
       "      <td>9.150000e+09</td>\n",
       "      <td>0.018851</td>\n",
       "      <td>0.739555</td>\n",
       "      <td>0.834697</td>\n",
       "      <td>0.026697</td>\n",
       "      <td>0.023982</td>\n",
       "      <td>1</td>\n",
       "    </tr>\n",
       "    <tr>\n",
       "      <th>4</th>\n",
       "      <td>0.303475</td>\n",
       "      <td>6.860686e-04</td>\n",
       "      <td>0.167502</td>\n",
       "      <td>0.212537</td>\n",
       "      <td>0.000439</td>\n",
       "      <td>0.636055</td>\n",
       "      <td>0.005150</td>\n",
       "      <td>0.375025</td>\n",
       "      <td>0.167461</td>\n",
       "      <td>2.935211e-04</td>\n",
       "      <td>0.014161</td>\n",
       "      <td>0.795016</td>\n",
       "      <td>0.839973</td>\n",
       "      <td>0.024752</td>\n",
       "      <td>0.035490</td>\n",
       "      <td>1</td>\n",
       "    </tr>\n",
       "    <tr>\n",
       "      <th>...</th>\n",
       "      <td>...</td>\n",
       "      <td>...</td>\n",
       "      <td>...</td>\n",
       "      <td>...</td>\n",
       "      <td>...</td>\n",
       "      <td>...</td>\n",
       "      <td>...</td>\n",
       "      <td>...</td>\n",
       "      <td>...</td>\n",
       "      <td>...</td>\n",
       "      <td>...</td>\n",
       "      <td>...</td>\n",
       "      <td>...</td>\n",
       "      <td>...</td>\n",
       "      <td>...</td>\n",
       "      <td>...</td>\n",
       "    </tr>\n",
       "    <tr>\n",
       "      <th>6814</th>\n",
       "      <td>0.303510</td>\n",
       "      <td>1.790179e-04</td>\n",
       "      <td>0.175045</td>\n",
       "      <td>0.216602</td>\n",
       "      <td>0.000450</td>\n",
       "      <td>0.631415</td>\n",
       "      <td>0.006655</td>\n",
       "      <td>0.373823</td>\n",
       "      <td>0.171111</td>\n",
       "      <td>1.429781e-04</td>\n",
       "      <td>0.099481</td>\n",
       "      <td>0.799927</td>\n",
       "      <td>0.840359</td>\n",
       "      <td>0.027064</td>\n",
       "      <td>0.029890</td>\n",
       "      <td>0</td>\n",
       "    </tr>\n",
       "    <tr>\n",
       "      <th>6815</th>\n",
       "      <td>0.303520</td>\n",
       "      <td>2.370237e-04</td>\n",
       "      <td>0.181324</td>\n",
       "      <td>0.216697</td>\n",
       "      <td>0.000445</td>\n",
       "      <td>0.631489</td>\n",
       "      <td>0.004623</td>\n",
       "      <td>0.372505</td>\n",
       "      <td>0.171805</td>\n",
       "      <td>6.051982e-04</td>\n",
       "      <td>0.080337</td>\n",
       "      <td>0.799748</td>\n",
       "      <td>0.840306</td>\n",
       "      <td>0.027009</td>\n",
       "      <td>0.038284</td>\n",
       "      <td>0</td>\n",
       "    </tr>\n",
       "    <tr>\n",
       "      <th>6816</th>\n",
       "      <td>0.303512</td>\n",
       "      <td>0.000000e+00</td>\n",
       "      <td>0.269521</td>\n",
       "      <td>0.210929</td>\n",
       "      <td>0.000435</td>\n",
       "      <td>0.630612</td>\n",
       "      <td>0.001392</td>\n",
       "      <td>0.369637</td>\n",
       "      <td>0.172287</td>\n",
       "      <td>1.024298e-03</td>\n",
       "      <td>0.412885</td>\n",
       "      <td>0.797778</td>\n",
       "      <td>0.840138</td>\n",
       "      <td>0.026791</td>\n",
       "      <td>0.097649</td>\n",
       "      <td>0</td>\n",
       "    </tr>\n",
       "    <tr>\n",
       "      <th>6817</th>\n",
       "      <td>0.303498</td>\n",
       "      <td>2.110211e-04</td>\n",
       "      <td>0.213392</td>\n",
       "      <td>0.228326</td>\n",
       "      <td>0.000529</td>\n",
       "      <td>0.630731</td>\n",
       "      <td>0.003816</td>\n",
       "      <td>0.369649</td>\n",
       "      <td>0.182498</td>\n",
       "      <td>2.330013e-04</td>\n",
       "      <td>0.112238</td>\n",
       "      <td>0.811808</td>\n",
       "      <td>0.841084</td>\n",
       "      <td>0.026822</td>\n",
       "      <td>0.044009</td>\n",
       "      <td>0</td>\n",
       "    </tr>\n",
       "    <tr>\n",
       "      <th>6818</th>\n",
       "      <td>0.313415</td>\n",
       "      <td>5.900000e+08</td>\n",
       "      <td>0.220766</td>\n",
       "      <td>0.227758</td>\n",
       "      <td>0.000519</td>\n",
       "      <td>0.630618</td>\n",
       "      <td>0.000461</td>\n",
       "      <td>0.370049</td>\n",
       "      <td>0.179911</td>\n",
       "      <td>2.995731e-04</td>\n",
       "      <td>0.238147</td>\n",
       "      <td>0.815956</td>\n",
       "      <td>0.841019</td>\n",
       "      <td>0.026793</td>\n",
       "      <td>0.233902</td>\n",
       "      <td>0</td>\n",
       "    </tr>\n",
       "  </tbody>\n",
       "</table>\n",
       "<p>6819 rows × 16 columns</p>\n",
       "</div>"
      ],
      "text/plain": [
       "       Non-industry income and expenditure/revenue  \\\n",
       "0                                         0.302646   \n",
       "1                                         0.303556   \n",
       "2                                         0.302035   \n",
       "3                                         0.303350   \n",
       "4                                         0.303475   \n",
       "...                                            ...   \n",
       "6814                                      0.303510   \n",
       "6815                                      0.303520   \n",
       "6816                                      0.303512   \n",
       "6817                                      0.303498   \n",
       "6818                                      0.313415   \n",
       "\n",
       "       Interest-bearing debt interest rate   Net Value Per Share (A)  \\\n",
       "0                             7.250725e-04                  0.147950   \n",
       "1                             6.470647e-04                  0.182251   \n",
       "2                             7.900790e-04                  0.177911   \n",
       "3                             4.490449e-04                  0.154187   \n",
       "4                             6.860686e-04                  0.167502   \n",
       "...                                    ...                       ...   \n",
       "6814                          1.790179e-04                  0.175045   \n",
       "6815                          2.370237e-04                  0.181324   \n",
       "6816                          0.000000e+00                  0.269521   \n",
       "6817                          2.110211e-04                  0.213392   \n",
       "6818                          5.900000e+08                  0.220766   \n",
       "\n",
       "       Persistent EPS in the Last Four Seasons   Net Value Growth Rate  \\\n",
       "0                                     0.169141                0.000327   \n",
       "1                                     0.208944                0.000443   \n",
       "2                                     0.180581                0.000396   \n",
       "3                                     0.193722                0.000382   \n",
       "4                                     0.212537                0.000439   \n",
       "...                                        ...                     ...   \n",
       "6814                                  0.216602                0.000450   \n",
       "6815                                  0.216697                0.000445   \n",
       "6816                                  0.210929                0.000435   \n",
       "6817                                  0.228326                0.000529   \n",
       "6818                                  0.227758                0.000519   \n",
       "\n",
       "       Interest Expense Ratio   Total debt/Total net worth  \\\n",
       "0                    0.629951                     0.021266   \n",
       "1                    0.635172                     0.012502   \n",
       "2                    0.629631                     0.021248   \n",
       "3                    0.630228                     0.009572   \n",
       "4                    0.636055                     0.005150   \n",
       "...                       ...                          ...   \n",
       "6814                 0.631415                     0.006655   \n",
       "6815                 0.631489                     0.004623   \n",
       "6816                 0.630612                     0.001392   \n",
       "6817                 0.630731                     0.003816   \n",
       "6818                 0.630618                     0.000461   \n",
       "\n",
       "       Borrowing dependency   Net profit before tax/Paid-in capital  \\\n",
       "0                  0.390284                                0.137757   \n",
       "1                  0.376760                                0.168962   \n",
       "2                  0.379093                                0.148036   \n",
       "3                  0.379743                                0.147561   \n",
       "4                  0.375025                                0.167461   \n",
       "...                     ...                                     ...   \n",
       "6814               0.373823                                0.171111   \n",
       "6815               0.372505                                0.171805   \n",
       "6816               0.369637                                0.172287   \n",
       "6817               0.369649                                0.182498   \n",
       "6818               0.370049                                0.179911   \n",
       "\n",
       "       Fixed Assets Turnover Frequency   Cash/Total Assets  \\\n",
       "0                         1.165007e-04            0.004094   \n",
       "1                         7.190000e+08            0.014948   \n",
       "2                         2.650000e+09            0.000991   \n",
       "3                         9.150000e+09            0.018851   \n",
       "4                         2.935211e-04            0.014161   \n",
       "...                                ...                 ...   \n",
       "6814                      1.429781e-04            0.099481   \n",
       "6815                      6.051982e-04            0.080337   \n",
       "6816                      1.024298e-03            0.412885   \n",
       "6817                      2.330013e-04            0.112238   \n",
       "6818                      2.995731e-04            0.238147   \n",
       "\n",
       "       Net Income to Total Assets   Net Income to Stockholder's Equity  \\\n",
       "0                        0.716845                             0.827890   \n",
       "1                        0.795297                             0.839969   \n",
       "2                        0.774670                             0.836774   \n",
       "3                        0.739555                             0.834697   \n",
       "4                        0.795016                             0.839973   \n",
       "...                           ...                                  ...   \n",
       "6814                     0.799927                             0.840359   \n",
       "6815                     0.799748                             0.840306   \n",
       "6816                     0.797778                             0.840138   \n",
       "6817                     0.811808                             0.841084   \n",
       "6818                     0.815956                             0.841019   \n",
       "\n",
       "       Degree of Financial Leverage (DFL)   Equity to Liability  Bankrupt?  \n",
       "0                                0.026601              0.016469          1  \n",
       "1                                0.264577              0.020794          1  \n",
       "2                                0.026555              0.016474          1  \n",
       "3                                0.026697              0.023982          1  \n",
       "4                                0.024752              0.035490          1  \n",
       "...                                   ...                   ...        ...  \n",
       "6814                             0.027064              0.029890          0  \n",
       "6815                             0.027009              0.038284          0  \n",
       "6816                             0.026791              0.097649          0  \n",
       "6817                             0.026822              0.044009          0  \n",
       "6818                             0.026793              0.233902          0  \n",
       "\n",
       "[6819 rows x 16 columns]"
      ]
     },
     "execution_count": 7,
     "metadata": {},
     "output_type": "execute_result"
    }
   ],
   "source": [
    "df = df[features]\n",
    "df"
   ]
  },
  {
   "cell_type": "code",
   "execution_count": 10,
   "metadata": {},
   "outputs": [],
   "source": [
    "from imblearn.over_sampling import SMOTE\n",
    "X=df.drop(labels=['Bankrupt?'], axis=1)\n",
    "y=df['Bankrupt?']"
   ]
  },
  {
   "cell_type": "code",
   "execution_count": 11,
   "metadata": {},
   "outputs": [],
   "source": [
    "# Oversampling to combat unabalanced data\n",
    "oversample = SMOTE()\n",
    "X,y=oversample.fit_resample(X,y)\n",
    "#sns.countplot(x=y)"
   ]
  },
  {
   "cell_type": "code",
   "execution_count": 12,
   "metadata": {},
   "outputs": [
    {
     "data": {
      "text/plain": [
       "<matplotlib.axes._subplots.AxesSubplot at 0x7fabf4bf2fd0>"
      ]
     },
     "execution_count": 12,
     "metadata": {},
     "output_type": "execute_result"
    },
    {
     "data": {
      "image/png": "[encoded data removed]",
      "text/plain": [
       "<Figure size 432x288 with 1 Axes>"
      ]
     },
     "metadata": {
      "needs_background": "light"
     },
     "output_type": "display_data"
    }
   ],
   "source": []
  },
  {
   "cell_type": "code",
   "execution_count": 16,
   "metadata": {},
   "outputs": [],
   "source": [
    "from sklearn.preprocessing import StandardScaler\n",
    "scaler=StandardScaler()\n",
    "X_scale=scaler.fit_transform(X)"
   ]
  },
  {
   "cell_type": "code",
   "execution_count": 17,
   "metadata": {},
   "outputs": [],
   "source": [
    "from sklearn.model_selection import train_test_split\n",
    "X_train, X_test, y_train, y_test = train_test_split(X_scale, y,test_size=0.3)"
   ]
  },
  {
   "cell_type": "code",
   "execution_count": 18,
   "metadata": {},
   "outputs": [
    {
     "data": {
      "text/plain": [
       "LogisticRegression()"
      ]
     },
     "execution_count": 18,
     "metadata": {},
     "output_type": "execute_result"
    }
   ],
   "source": [
    "# Logistic Regression\n",
    "from sklearn.linear_model import LogisticRegression\n",
    "log_reg=LogisticRegression()\n",
    "log_reg.fit(X_train,y_train)"
   ]
  },
  {
   "cell_type": "code",
   "execution_count": 19,
   "metadata": {},
   "outputs": [
    {
     "data": {
      "text/plain": [
       "0.8603535353535353"
      ]
     },
     "execution_count": 19,
     "metadata": {},
     "output_type": "execute_result"
    }
   ],
   "source": [
    "log_reg.score(X_test,y_test)"
   ]
  },
  {
   "cell_type": "code",
   "execution_count": 20,
   "metadata": {},
   "outputs": [
    {
     "data": {
      "text/plain": [
       "<matplotlib.axes._subplots.AxesSubplot at 0x7fabf47f5dc0>"
      ]
     },
     "execution_count": 20,
     "metadata": {},
     "output_type": "execute_result"
    },
    {
     "data": {
      "image/png": "[encoded data removed]",
      "text/plain": [
       "<Figure size 432x288 with 2 Axes>"
      ]
     },
     "metadata": {
      "needs_background": "light"
     },
     "output_type": "display_data"
    }
   ],
   "source": [
    "y_pred=log_reg.predict(X_test)\n",
    "# Confusion Matrix\n",
    "from sklearn.metrics import classification_report, confusion_matrix, accuracy_score\n",
    "sns.heatmap(confusion_matrix(y_test,y_pred), annot=True)"
   ]
  },
  {
   "cell_type": "code",
   "execution_count": 21,
   "metadata": {},
   "outputs": [
    {
     "name": "stdout",
     "output_type": "stream",
     "text": [
      "              precision    recall  f1-score   support\n",
      "\n",
      "           0       0.87      0.84      0.86      1962\n",
      "           1       0.85      0.88      0.86      1998\n",
      "\n",
      "    accuracy                           0.86      3960\n",
      "   macro avg       0.86      0.86      0.86      3960\n",
      "weighted avg       0.86      0.86      0.86      3960\n",
      "\n"
     ]
    }
   ],
   "source": [
    "# Score\n",
    "print(classification_report(y_test,y_pred))"
   ]
  },
  {
   "cell_type": "code",
   "execution_count": null,
   "metadata": {},
   "outputs": [],
   "source": []
  }
 ],
 "metadata": {
  "kernelspec": {
   "display_name": "Python 3",
   "language": "python",
   "name": "python3"
  },
  "language_info": {
   "codemirror_mode": {
    "name": "ipython",
    "version": 3
   },
   "file_extension": ".py",
   "mimetype": "text/x-python",
   "name": "python",
   "nbconvert_exporter": "python",
   "pygments_lexer": "ipython3",
   "version": "3.8.3"
  }
 },
 "nbformat": 4,
 "nbformat_minor": 4
}
